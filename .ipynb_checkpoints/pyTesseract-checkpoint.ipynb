{
 "cells": [
  {
   "cell_type": "code",
   "execution_count": 7,
   "id": "7d10e360",
   "metadata": {},
   "outputs": [],
   "source": [
    "from PIL import Image"
   ]
  },
  {
   "cell_type": "code",
   "execution_count": 12,
   "id": "3926c8ef",
   "metadata": {},
   "outputs": [],
   "source": [
    "import pytesseract"
   ]
  },
  {
   "cell_type": "code",
   "execution_count": 14,
   "id": "49bc8233",
   "metadata": {},
   "outputs": [],
   "source": [
    "image = Image.open(\"test.png\")"
   ]
  },
  {
   "cell_type": "code",
   "execution_count": 15,
   "id": "872de163",
   "metadata": {},
   "outputs": [],
   "source": [
    "# pass image into pytesseract module\n",
    "# pytesseract is trained in many languages\n",
    "image_to_text = pytesseract.image_to_string(image, lang='eng')"
   ]
  },
  {
   "cell_type": "code",
   "execution_count": 16,
   "id": "5ca21a0d",
   "metadata": {},
   "outputs": [
    {
     "name": "stdout",
     "output_type": "stream",
     "text": [
      "© TExTNow now\n",
      "You're now connected!\n",
      "\n",
      "Welcome to TextNow’s free cellular network.\n",
      "You now have access to free calling and\n",
      "texting everywhere.\n",
      "\f",
      "\n"
     ]
    }
   ],
   "source": [
    "# Print the text\n",
    "print(image_to_text)"
   ]
  },
  {
   "cell_type": "code",
   "execution_count": null,
   "id": "07de827f",
   "metadata": {},
   "outputs": [],
   "source": []
  }
 ],
 "metadata": {
  "kernelspec": {
   "display_name": "Python 3",
   "language": "python",
   "name": "python3"
  },
  "language_info": {
   "codemirror_mode": {
    "name": "ipython",
    "version": 3
   },
   "file_extension": ".py",
   "mimetype": "text/x-python",
   "name": "python",
   "nbconvert_exporter": "python",
   "pygments_lexer": "ipython3",
   "version": "3.8.6"
  }
 },
 "nbformat": 4,
 "nbformat_minor": 5
}
