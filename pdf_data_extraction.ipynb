{
 "cells": [
  {
   "cell_type": "code",
   "execution_count": 1,
   "metadata": {},
   "outputs": [
    {
     "name": "stdout",
     "output_type": "stream",
     "text": [
      "Name: PyPDF2\r\n",
      "Version: 1.26.0\r\n",
      "Summary: PDF toolkit\r\n",
      "Home-page: http://mstamy2.github.com/PyPDF2\r\n",
      "Author: Mathieu Fenniak\r\n",
      "Author-email: biziqe@mathieu.fenniak.net\r\n",
      "License: UNKNOWN\r\n",
      "Location: /home/paras/.local/lib/python3.8/site-packages\r\n",
      "Requires: \r\n",
      "Required-by: \r\n"
     ]
    }
   ],
   "source": [
    "! pip3 show PyPDF2"
   ]
  },
  {
   "cell_type": "code",
   "execution_count": 16,
   "metadata": {},
   "outputs": [],
   "source": [
    "import PyPDF2 "
   ]
  },
  {
   "cell_type": "code",
   "execution_count": 26,
   "metadata": {},
   "outputs": [],
   "source": [
    "reader = PyPDF2.PdfFileReader('dev.pdf')"
   ]
  },
  {
   "cell_type": "code",
   "execution_count": 28,
   "metadata": {},
   "outputs": [
    {
     "data": {
      "text/plain": [
       "'B)  Error\\n \\n \\nC)  2\\n \\n    \\n3\\n \\n    \\n4\\n \\n    \\n5\\n \\n \\nD)  2\\n \\n    \\n2\\n \\n    \\n2\\n \\n    \\n2\\n \\n \\n \\n \\nQ3\\n-\\n \\nYou are\\n \\ngiven a week\\'s rainfall data of few cities. Using the data write a function rainDance which \\nreturns an array of objects each object containing city name and average rainfall.\\n \\n \\nConstraints:\\n \\nNil\\n \\n \\nSample Input:\\n \\n[\\n \\n  \\n{ name: \"Roorkee\", rainfall: [5, 6, 5, 5, 4\\n, 7, 8] },\\n \\n  \\n{ name: \"Pauri\", rainfall: [3, 3, 3, 1, 2, 2, 2] },\\n \\n];\\n \\n \\n'"
      ]
     },
     "execution_count": 28,
     "metadata": {},
     "output_type": "execute_result"
    }
   ],
   "source": [
    "reader.getPage(2).extractText()"
   ]
  },
  {
   "cell_type": "code",
   "execution_count": 29,
   "metadata": {},
   "outputs": [],
   "source": [
    "writer = PyPDF2.PdfFileWriter()\n"
   ]
  },
  {
   "cell_type": "code",
   "execution_count": 30,
   "metadata": {},
   "outputs": [],
   "source": [
    "my_page = reader.getPage(2)\n",
    "writer.addPage(my_page)"
   ]
  },
  {
   "cell_type": "code",
   "execution_count": 31,
   "metadata": {},
   "outputs": [],
   "source": [
    "output_filename = 'pages_we_want_to_save.pdf'\n",
    "with open(output_filename, 'wb') as output:\n",
    "    writer.write(output)"
   ]
  },
  {
   "cell_type": "code",
   "execution_count": null,
   "metadata": {},
   "outputs": [],
   "source": []
  },
  {
   "cell_type": "code",
   "execution_count": null,
   "metadata": {},
   "outputs": [],
   "source": []
  },
  {
   "cell_type": "code",
   "execution_count": null,
   "metadata": {},
   "outputs": [],
   "source": []
  },
  {
   "cell_type": "code",
   "execution_count": null,
   "metadata": {},
   "outputs": [],
   "source": []
  },
  {
   "cell_type": "code",
   "execution_count": null,
   "metadata": {},
   "outputs": [],
   "source": []
  },
  {
   "cell_type": "code",
   "execution_count": null,
   "metadata": {},
   "outputs": [],
   "source": []
  }
 ],
 "metadata": {
  "kernelspec": {
   "display_name": "Python 3",
   "language": "python",
   "name": "python3"
  },
  "language_info": {
   "codemirror_mode": {
    "name": "ipython",
    "version": 3
   },
   "file_extension": ".py",
   "mimetype": "text/x-python",
   "name": "python",
   "nbconvert_exporter": "python",
   "pygments_lexer": "ipython3",
   "version": "3.8.6"
  }
 },
 "nbformat": 4,
 "nbformat_minor": 4
}
